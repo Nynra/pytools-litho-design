{
 "cells": [
  {
   "cell_type": "markdown",
   "id": "0",
   "metadata": {},
   "source": [
    "# Finite-Element Mode Solver\n",
    "\n",
    "Using femwell, you can mesh any component cross-section and solve PDEs with its powerful mode solver.\n",
    "\n",
    "Unlike other solvers that rely on predefined geometries, femwell works directly with the actual component geometry. You can compute the modes of a GDSFactory cross-section, which internally defines a \"uz\" mesh perpendicular to a straight component using the provided cross-section.\n",
    "\n",
    "Additionally, you can downsample layers from the LayerStack and modify both the cross-section and LayerStack before running the simulation to adjust the geometry. You can also define refractive indices based on the active PDK."
   ]
  },
  {
   "cell_type": "code",
   "execution_count": null,
   "id": "1",
   "metadata": {},
   "outputs": [],
   "source": [
    "import logging\n",
    "import sys\n",
    "\n",
    "try:\n",
    "    from femwell.maxwell.waveguide import compute_modes\n",
    "    from femwell.visualization import plot_domains\n",
    "    from skfem import Basis, ElementTriP0\n",
    "    from skfem.io.meshio import from_meshio\n",
    "except ImportError:\n",
    "    raise ImportError(\"Please install pytools-litho-design with the femwell option\")\n",
    "\n",
    "\n",
    "import gdsfactory as gf\n",
    "import matplotlib.pyplot as plt\n",
    "from gdsfactory.generic_tech import LAYER_STACK, get_generic_pdk\n",
    "from gdsfactory.technology import LayerStack\n",
    "from gplugins.gmsh import get_mesh\n",
    "from rich.logging import RichHandler\n",
    "\n",
    "\n",
    "gf.config.rich_output()\n",
    "PDK = get_generic_pdk()\n",
    "PDK.activate()\n",
    "\n",
    "logger = logging.getLogger()\n",
    "logger.removeHandler(sys.stderr)\n",
    "logging.basicConfig(level=\"WARNING\", datefmt=\"[%X]\", handlers=[RichHandler()])"
   ]
  },
  {
   "cell_type": "markdown",
   "id": "2",
   "metadata": {},
   "source": [
    "First we choose a component to simulate. Here, a straight strip waveguide:"
   ]
  },
  {
   "cell_type": "code",
   "execution_count": 2,
   "id": "3",
   "metadata": {},
   "outputs": [
    {
     "data": {
      "text/html": [
       "<pre style=\"white-space:pre;overflow-x:auto;line-height:normal;font-family:Menlo,'DejaVu Sans Mono',consolas,'Courier New',monospace\"></pre>\n"
      ],
      "text/plain": []
     },
     "metadata": {},
     "output_type": "display_data"
    },
    {
     "data": {
      "image/png": "[encoded data removed]",
      "text/plain": [
       "\u001b[1m<\u001b[0m\u001b[1;95mFigure\u001b[0m\u001b[39m size 80\u001b[0m\u001b[1;36m0x600\u001b[0m\u001b[39m with \u001b[0m\u001b[1;36m1\u001b[0m\u001b[39m Axes\u001b[0m\u001b[1m>\u001b[0m"
      ]
     },
     "metadata": {},
     "output_type": "display_data"
    }
   ],
   "source": [
    "xs = gf.cross_section.strip(width=1)\n",
    "\n",
    "c = gf.components.straight(cross_section=xs)\n",
    "c"
   ]
  },
  {
   "cell_type": "markdown",
   "id": "4",
   "metadata": {},
   "source": [
    "Then we choose a Layer Stack. Here, we simply downsample the generic stack:"
   ]
  },
  {
   "cell_type": "code",
   "execution_count": 3,
   "id": "5",
   "metadata": {},
   "outputs": [],
   "source": [
    "filtered_layer_stack = LayerStack(\n",
    "    layers={\n",
    "        k: LAYER_STACK.layers[k]\n",
    "        for k in (\n",
    "            \"core\",\n",
    "            \"clad\",\n",
    "            \"slab90\",\n",
    "            \"box\",\n",
    "        )\n",
    "    }\n",
    ")"
   ]
  },
  {
   "cell_type": "markdown",
   "id": "6",
   "metadata": {},
   "source": [
    "We can also change some of the values:"
   ]
  },
  {
   "cell_type": "code",
   "execution_count": 4,
   "id": "7",
   "metadata": {},
   "outputs": [],
   "source": [
    "filtered_layer_stack.layers[\n",
    "    \"core\"\n",
    "].thickness = 0.22  # Perturb the layer_stack before simulating\n",
    "\n",
    "filtered_layer_stack.layers[\n",
    "    \"slab90\"\n",
    "].thickness = 0.09  # Perturb the layer_stack before simulating\n",
    "\n",
    "# When selecting resolutions, the names must match the keys of the layerstack\n",
    "# Here, choose a finer mesh inside and close to the core\n",
    "resolutions = {\n",
    "    \"core\": {\"resolution\": 0.02, \"DistMax\": 2, \"SizeMax\": 0.2},\n",
    "}"
   ]
  },
  {
   "cell_type": "markdown",
   "id": "8",
   "metadata": {},
   "source": [
    "Using gplugins, we quickly generate a cross-sectional mesh:"
   ]
  },
  {
   "cell_type": "code",
   "execution_count": 5,
   "id": "9",
   "metadata": {},
   "outputs": [
    {
     "ename": "TypeError",
     "evalue": "PolySurface.__init__() got an unexpected keyword argument 'resolution'",
     "output_type": "error",
     "traceback": [
      "\u001b[31m---------------------------------------------------------------------------\u001b[39m",
      "\u001b[31mTypeError\u001b[39m                                 Traceback (most recent call last)",
      "\u001b[36mCell\u001b[39m\u001b[36m \u001b[39m\u001b[32mIn[5]\u001b[39m\u001b[32m, line 1\u001b[39m\n\u001b[32m----> \u001b[39m\u001b[32m1\u001b[39m mesh_gmsh = \u001b[43mget_mesh\u001b[49m\u001b[43m(\u001b[49m\n\u001b[32m      2\u001b[39m \u001b[43m    \u001b[49m\u001b[43mcomponent\u001b[49m\u001b[43m=\u001b[49m\u001b[43mc\u001b[49m\u001b[43m,\u001b[49m\n\u001b[32m      3\u001b[39m \u001b[43m    \u001b[49m\u001b[43mlayer_stack\u001b[49m\u001b[43m=\u001b[49m\u001b[43mfiltered_layer_stack\u001b[49m\u001b[43m,\u001b[49m\n\u001b[32m      4\u001b[39m \u001b[43m    \u001b[49m\u001b[38;5;28;43mtype\u001b[39;49m\u001b[43m=\u001b[49m\u001b[33;43m\"\u001b[39;49m\u001b[33;43muz\u001b[39;49m\u001b[33;43m\"\u001b[39;49m\u001b[43m,\u001b[49m\u001b[43m  \u001b[49m\u001b[38;5;66;43;03m# we want a cross-section\u001b[39;49;00m\n\u001b[32m      5\u001b[39m \u001b[43m    \u001b[49m\u001b[43mxsection_bounds\u001b[49m\u001b[43m=\u001b[49m\u001b[43m(\u001b[49m\u001b[43m(\u001b[49m\u001b[32;43m1\u001b[39;49m\u001b[43m,\u001b[49m\u001b[43m \u001b[49m\u001b[43m-\u001b[49m\u001b[32;43m3\u001b[39;49m\u001b[43m)\u001b[49m\u001b[43m,\u001b[49m\u001b[43m \u001b[49m\u001b[43m(\u001b[49m\u001b[32;43m1\u001b[39;49m\u001b[43m,\u001b[49m\u001b[43m \u001b[49m\u001b[32;43m3\u001b[39;49m\u001b[43m)\u001b[49m\u001b[43m)\u001b[49m\u001b[43m,\u001b[49m\u001b[43m  \u001b[49m\u001b[38;5;66;43;03m# the line from which we take a cross-section\u001b[39;49;00m\n\u001b[32m      6\u001b[39m \u001b[43m    \u001b[49m\u001b[43mwafer_padding\u001b[49m\u001b[43m=\u001b[49m\u001b[32;43m3\u001b[39;49m\u001b[43m,\u001b[49m\u001b[43m  \u001b[49m\u001b[38;5;66;43;03m# pad simulation domain 3 microns around the component\u001b[39;49;00m\n\u001b[32m      7\u001b[39m \u001b[43m    \u001b[49m\u001b[43mfilename\u001b[49m\u001b[43m=\u001b[49m\u001b[33;43m\"\u001b[39;49m\u001b[33;43mmesh.msh\u001b[39;49m\u001b[33;43m\"\u001b[39;49m\u001b[43m,\u001b[49m\n\u001b[32m      8\u001b[39m \u001b[43m    \u001b[49m\u001b[38;5;66;43;03m# resolutions=resolutions,\u001b[39;49;00m\n\u001b[32m      9\u001b[39m \u001b[43m    \u001b[49m\u001b[43mdefault_characteristic_length\u001b[49m\u001b[43m=\u001b[49m\u001b[32;43m0.5\u001b[39;49m\u001b[43m,\u001b[49m\n\u001b[32m     10\u001b[39m \u001b[43m)\u001b[49m\n",
      "\u001b[36mFile \u001b[39m\u001b[32m~/repos/pytools-litho-design/venv/lib/python3.12/site-packages/gplugins/gmsh/get_mesh.py:127\u001b[39m, in \u001b[36mget_mesh\u001b[39m\u001b[34m(component, type, layer_stack, layer_physical_map, layer_meshbool_map, z, xsection_bounds, wafer_padding, wafer_layer, default_characteristic_length, background_remeshing_file, **kwargs)\u001b[39m\n\u001b[32m    121\u001b[39m     \u001b[38;5;28;01mif\u001b[39;00m xsection_bounds \u001b[38;5;129;01mis\u001b[39;00m \u001b[38;5;28;01mNone\u001b[39;00m:\n\u001b[32m    122\u001b[39m         \u001b[38;5;28;01mraise\u001b[39;00m \u001b[38;5;167;01mValueError\u001b[39;00m(\n\u001b[32m    123\u001b[39m             \u001b[33m\"\u001b[39m\u001b[33mFor uz-meshing, you must provide a line in the xy-plane \u001b[39m\u001b[33m\"\u001b[39m\n\u001b[32m    124\u001b[39m             \u001b[33m\"\u001b[39m\u001b[33mvia the Tuple argument [[x1,y1], [x2,y2]] xsection_bounds.\u001b[39m\u001b[33m\"\u001b[39m\n\u001b[32m    125\u001b[39m         )\n\u001b[32m--> \u001b[39m\u001b[32m127\u001b[39m     \u001b[38;5;28;01mreturn\u001b[39;00m \u001b[43muz_xsection_mesh\u001b[49m\u001b[43m(\u001b[49m\n\u001b[32m    128\u001b[39m \u001b[43m        \u001b[49m\u001b[43mcomponent\u001b[49m\u001b[43m=\u001b[49m\u001b[43mpadded_component\u001b[49m\u001b[43m,\u001b[49m\n\u001b[32m    129\u001b[39m \u001b[43m        \u001b[49m\u001b[43mxsection_bounds\u001b[49m\u001b[43m=\u001b[49m\u001b[43mxsection_bounds\u001b[49m\u001b[43m,\u001b[49m\n\u001b[32m    130\u001b[39m \u001b[43m        \u001b[49m\u001b[43mlayer_stack\u001b[49m\u001b[43m=\u001b[49m\u001b[43mlayer_stack\u001b[49m\u001b[43m,\u001b[49m\n\u001b[32m    131\u001b[39m \u001b[43m        \u001b[49m\u001b[43mdefault_characteristic_length\u001b[49m\u001b[43m=\u001b[49m\u001b[43mdefault_characteristic_length\u001b[49m\u001b[43m,\u001b[49m\n\u001b[32m    132\u001b[39m \u001b[43m        \u001b[49m\u001b[43mresolutions\u001b[49m\u001b[43m=\u001b[49m\u001b[43mnew_resolutions\u001b[49m\u001b[43m,\u001b[49m\n\u001b[32m    133\u001b[39m \u001b[43m        \u001b[49m\u001b[43mlayer_physical_map\u001b[49m\u001b[43m=\u001b[49m\u001b[43mlayer_physical_map\u001b[49m\u001b[43m,\u001b[49m\n\u001b[32m    134\u001b[39m \u001b[43m        \u001b[49m\u001b[43mlayer_meshbool_map\u001b[49m\u001b[43m=\u001b[49m\u001b[43mlayer_meshbool_map\u001b[49m\u001b[43m,\u001b[49m\n\u001b[32m    135\u001b[39m \u001b[43m        \u001b[49m\u001b[43mbackground_remeshing_file\u001b[49m\u001b[43m=\u001b[49m\u001b[43mbackground_remeshing_file\u001b[49m\u001b[43m,\u001b[49m\n\u001b[32m    136\u001b[39m \u001b[43m        \u001b[49m\u001b[43m*\u001b[49m\u001b[43m*\u001b[49m\u001b[43mkwargs\u001b[49m\u001b[43m,\u001b[49m\n\u001b[32m    137\u001b[39m \u001b[43m    \u001b[49m\u001b[43m)\u001b[49m\n\u001b[32m    138\u001b[39m \u001b[38;5;28;01melif\u001b[39;00m \u001b[38;5;28mtype\u001b[39m == \u001b[33m\"\u001b[39m\u001b[33mxy\u001b[39m\u001b[33m\"\u001b[39m:\n\u001b[32m    139\u001b[39m     \u001b[38;5;28;01mif\u001b[39;00m z \u001b[38;5;129;01mis\u001b[39;00m \u001b[38;5;28;01mNone\u001b[39;00m:\n",
      "\u001b[36mFile \u001b[39m\u001b[32m~/repos/pytools-litho-design/venv/lib/python3.12/site-packages/gplugins/gmsh/uz_xsection_mesh.py:297\u001b[39m, in \u001b[36muz_xsection_mesh\u001b[39m\u001b[34m(component, xsection_bounds, layer_stack, layer_physical_map, layer_meshbool_map, resolutions, default_characteristic_length, background_tag, background_padding, background_mesh_order, global_scaling, global_scaling_premesh, global_2D_algorithm, filename, round_tol, simplify_tol, u_offset, left_right_periodic_bcs, verbosity, n_threads, gmsh_version, interface_delimiter, background_remeshing_file, optimization_flags, **kwargs)\u001b[39m\n\u001b[32m    295\u001b[39m \u001b[38;5;66;03m# Define polysurfaces\u001b[39;00m\n\u001b[32m    296\u001b[39m model = Model(n_threads=n_threads)\n\u001b[32m--> \u001b[39m\u001b[32m297\u001b[39m polysurfaces_list = \u001b[43mdefine_polysurfaces\u001b[49m\u001b[43m(\u001b[49m\n\u001b[32m    298\u001b[39m \u001b[43m    \u001b[49m\u001b[43mpolygons_dict\u001b[49m\u001b[43m=\u001b[49m\u001b[43mshapes\u001b[49m\u001b[43m,\u001b[49m\n\u001b[32m    299\u001b[39m \u001b[43m    \u001b[49m\u001b[43mlayer_stack\u001b[49m\u001b[43m=\u001b[49m\u001b[43mlayer_stack\u001b[49m\u001b[43m,\u001b[49m\n\u001b[32m    300\u001b[39m \u001b[43m    \u001b[49m\u001b[43mmodel\u001b[49m\u001b[43m=\u001b[49m\u001b[43mmodel\u001b[49m\u001b[43m,\u001b[49m\n\u001b[32m    301\u001b[39m \u001b[43m    \u001b[49m\u001b[43mscale_factor\u001b[49m\u001b[43m=\u001b[49m\u001b[43mglobal_scaling_premesh\u001b[49m\u001b[43m,\u001b[49m\n\u001b[32m    302\u001b[39m \u001b[43m    \u001b[49m\u001b[43mresolutions\u001b[49m\u001b[43m=\u001b[49m\u001b[43mresolutions\u001b[49m\u001b[43m,\u001b[49m\n\u001b[32m    303\u001b[39m \u001b[43m    \u001b[49m\u001b[43mlayer_physical_map\u001b[49m\u001b[43m=\u001b[49m\u001b[43mlayer_physical_map\u001b[49m\u001b[43m,\u001b[49m\n\u001b[32m    304\u001b[39m \u001b[43m    \u001b[49m\u001b[43mlayer_meshbool_map\u001b[49m\u001b[43m=\u001b[49m\u001b[43mlayer_meshbool_map\u001b[49m\u001b[43m,\u001b[49m\n\u001b[32m    305\u001b[39m \u001b[43m\u001b[49m\u001b[43m)\u001b[49m\n\u001b[32m    307\u001b[39m \u001b[38;5;66;03m# Add background polygon\u001b[39;00m\n\u001b[32m    308\u001b[39m \u001b[38;5;28;01mif\u001b[39;00m background_tag \u001b[38;5;129;01mis\u001b[39;00m \u001b[38;5;129;01mnot\u001b[39;00m \u001b[38;5;28;01mNone\u001b[39;00m:\n\u001b[32m    309\u001b[39m     \u001b[38;5;66;03m# shapes[background_tag] = bounds.buffer(background_padding[0])\u001b[39;00m\n\u001b[32m    310\u001b[39m     \u001b[38;5;66;03m# bounds = unary_union(list(shapes.values())).bounds\u001b[39;00m\n",
      "\u001b[36mFile \u001b[39m\u001b[32m~/repos/pytools-litho-design/venv/lib/python3.12/site-packages/gplugins/gmsh/define_polysurfaces.py:28\u001b[39m, in \u001b[36mdefine_polysurfaces\u001b[39m\u001b[34m(polygons_dict, layer_stack, layer_physical_map, layer_meshbool_map, model, resolutions, scale_factor)\u001b[39m\n\u001b[32m     24\u001b[39m     \u001b[38;5;28;01mif\u001b[39;00m polygons_dict[layername].is_empty:\n\u001b[32m     25\u001b[39m         \u001b[38;5;28;01mcontinue\u001b[39;00m\n\u001b[32m     27\u001b[39m     polysurfaces_list.append(\n\u001b[32m---> \u001b[39m\u001b[32m28\u001b[39m         \u001b[43mPolySurface\u001b[49m\u001b[43m(\u001b[49m\n\u001b[32m     29\u001b[39m \u001b[43m            \u001b[49m\u001b[43mpolygons\u001b[49m\u001b[43m=\u001b[49m\u001b[43mscale\u001b[49m\u001b[43m(\u001b[49m\n\u001b[32m     30\u001b[39m \u001b[43m                \u001b[49m\u001b[43mpolygons_dict\u001b[49m\u001b[43m[\u001b[49m\u001b[43mlayername\u001b[49m\u001b[43m]\u001b[49m\u001b[43m,\u001b[49m\n\u001b[32m     31\u001b[39m \u001b[43m                \u001b[49m\u001b[43m*\u001b[49m\u001b[43m(\u001b[49m\u001b[43mscale_factor\u001b[49m\u001b[43m,\u001b[49m\u001b[43m)\u001b[49m\u001b[43m \u001b[49m\u001b[43m*\u001b[49m\u001b[43m \u001b[49m\u001b[32;43m2\u001b[39;49m\u001b[43m,\u001b[49m\n\u001b[32m     32\u001b[39m \u001b[43m                \u001b[49m\u001b[43morigin\u001b[49m\u001b[43m=\u001b[49m\u001b[43m(\u001b[49m\u001b[32;43m0\u001b[39;49m\u001b[43m,\u001b[49m\u001b[43m \u001b[49m\u001b[32;43m0\u001b[39;49m\u001b[43m,\u001b[49m\u001b[43m \u001b[49m\u001b[32;43m0\u001b[39;49m\u001b[43m)\u001b[49m\u001b[43m,\u001b[49m\n\u001b[32m     33\u001b[39m \u001b[43m            \u001b[49m\u001b[43m)\u001b[49m\u001b[43m,\u001b[49m\n\u001b[32m     34\u001b[39m \u001b[43m            \u001b[49m\u001b[43mmodel\u001b[49m\u001b[43m=\u001b[49m\u001b[43mmodel\u001b[49m\u001b[43m,\u001b[49m\n\u001b[32m     35\u001b[39m \u001b[43m            \u001b[49m\u001b[43mresolution\u001b[49m\u001b[43m=\u001b[49m\u001b[43mresolutions\u001b[49m\u001b[43m.\u001b[49m\u001b[43mget\u001b[49m\u001b[43m(\u001b[49m\u001b[43mlayername\u001b[49m\u001b[43m,\u001b[49m\u001b[43m \u001b[49m\u001b[38;5;28;43;01mNone\u001b[39;49;00m\u001b[43m)\u001b[49m\u001b[43m,\u001b[49m\n\u001b[32m     36\u001b[39m \u001b[43m            \u001b[49m\u001b[43mmesh_order\u001b[49m\u001b[43m=\u001b[49m\u001b[43mlayer_stack\u001b[49m\u001b[43m.\u001b[49m\u001b[43mlayers\u001b[49m\u001b[43m.\u001b[49m\u001b[43mget\u001b[49m\u001b[43m(\u001b[49m\u001b[43mlayername\u001b[49m\u001b[43m)\u001b[49m\u001b[43m.\u001b[49m\u001b[43mmesh_order\u001b[49m\u001b[43m,\u001b[49m\n\u001b[32m     37\u001b[39m \u001b[43m            \u001b[49m\u001b[43mphysical_name\u001b[49m\u001b[43m=\u001b[49m\u001b[43mlayer_physical_map\u001b[49m\u001b[43m[\u001b[49m\u001b[43mlayername\u001b[49m\u001b[43m]\u001b[49m\n\u001b[32m     38\u001b[39m \u001b[43m            \u001b[49m\u001b[38;5;28;43;01mif\u001b[39;49;00m\u001b[43m \u001b[49m\u001b[43mlayername\u001b[49m\u001b[43m \u001b[49m\u001b[38;5;129;43;01min\u001b[39;49;00m\u001b[43m \u001b[49m\u001b[43mlayer_physical_map\u001b[49m\n\u001b[32m     39\u001b[39m \u001b[43m            \u001b[49m\u001b[38;5;28;43;01melse\u001b[39;49;00m\u001b[43m \u001b[49m\u001b[43mlayername\u001b[49m\u001b[43m,\u001b[49m\n\u001b[32m     40\u001b[39m \u001b[43m            \u001b[49m\u001b[43mmesh_bool\u001b[49m\u001b[43m=\u001b[49m\u001b[43mlayer_meshbool_map\u001b[49m\u001b[43m[\u001b[49m\u001b[43mlayername\u001b[49m\u001b[43m]\u001b[49m\n\u001b[32m     41\u001b[39m \u001b[43m            \u001b[49m\u001b[38;5;28;43;01mif\u001b[39;49;00m\u001b[43m \u001b[49m\u001b[43mlayername\u001b[49m\u001b[43m \u001b[49m\u001b[38;5;129;43;01min\u001b[39;49;00m\u001b[43m \u001b[49m\u001b[43mlayer_meshbool_map\u001b[49m\n\u001b[32m     42\u001b[39m \u001b[43m            \u001b[49m\u001b[38;5;28;43;01melse\u001b[39;49;00m\u001b[43m \u001b[49m\u001b[38;5;28;43;01mTrue\u001b[39;49;00m\u001b[43m,\u001b[49m\n\u001b[32m     43\u001b[39m \u001b[43m        \u001b[49m\u001b[43m)\u001b[49m\n\u001b[32m     44\u001b[39m     )\n\u001b[32m     46\u001b[39m \u001b[38;5;28;01mreturn\u001b[39;00m polysurfaces_list\n",
      "\u001b[31mTypeError\u001b[39m: PolySurface.__init__() got an unexpected keyword argument 'resolution'"
     ]
    }
   ],
   "source": [
    "mesh_gmsh = get_mesh(\n",
    "    component=c,\n",
    "    layer_stack=filtered_layer_stack,\n",
    "    type=\"uz\",  # we want a cross-section\n",
    "    xsection_bounds=((1, -3), (1, 3)),  # the line from which we take a cross-section\n",
    "    wafer_padding=3,  # pad simulation domain 3 microns around the component\n",
    "    filename=\"mesh.msh\",\n",
    "    # resolutions=resolutions,\n",
    "    default_characteristic_length=0.5,\n",
    ")"
   ]
  },
  {
   "cell_type": "markdown",
   "id": "10",
   "metadata": {},
   "source": [
    "We can now throw this mesh into FEMWELL directly:"
   ]
  },
  {
   "cell_type": "code",
   "execution_count": null,
   "id": "11",
   "metadata": {},
   "outputs": [],
   "source": [
    "mesh = from_meshio(mesh_gmsh)\n",
    "mesh.draw().show()\n",
    "\n",
    "plot_domains(mesh)\n",
    "plt.show()"
   ]
  },
  {
   "cell_type": "markdown",
   "id": "12",
   "metadata": {},
   "source": [
    "Assign material values"
   ]
  },
  {
   "cell_type": "code",
   "execution_count": null,
   "id": "13",
   "metadata": {
    "lines_to_next_cell": 2
   },
   "outputs": [],
   "source": [
    "basis0 = Basis(mesh, ElementTriP0())\n",
    "epsilon = basis0.zeros()\n",
    "for subdomain, n in {\"core\": 3.45, \"box\": 1.444, \"clad\": 1.444}.items():\n",
    "    epsilon[basis0.get_dofs(elements=subdomain)] = n**2\n",
    "basis0.plot(epsilon, colorbar=True).show()"
   ]
  },
  {
   "cell_type": "markdown",
   "id": "14",
   "metadata": {},
   "source": [
    "Solve for the modes:"
   ]
  },
  {
   "cell_type": "code",
   "execution_count": null,
   "id": "15",
   "metadata": {},
   "outputs": [],
   "source": [
    "wavelength = 1.55\n",
    "modes = compute_modes(basis0, epsilon, wavelength=wavelength, num_modes=2, order=1)"
   ]
  },
  {
   "cell_type": "markdown",
   "id": "16",
   "metadata": {},
   "source": [
    "You can use them as inputs to other [femwell mode solver functions](https://github.com/HelgeGehring/femwell/blob/main/femwell/mode_solver.py) to inspect or analyze the modes:"
   ]
  },
  {
   "cell_type": "code",
   "execution_count": null,
   "id": "17",
   "metadata": {},
   "outputs": [],
   "source": [
    "print(modes[0].te_fraction)"
   ]
  },
  {
   "cell_type": "code",
   "execution_count": null,
   "id": "18",
   "metadata": {},
   "outputs": [],
   "source": [
    "modes[0].show(\"E\", part=\"real\")"
   ]
  },
  {
   "cell_type": "code",
   "execution_count": null,
   "id": "19",
   "metadata": {},
   "outputs": [],
   "source": [
    "dir(modes[0])"
   ]
  },
  {
   "cell_type": "code",
   "execution_count": null,
   "id": "20",
   "metadata": {},
   "outputs": [],
   "source": [
    "modes[0].plot_component?"
   ]
  },
  {
   "cell_type": "code",
   "execution_count": null,
   "id": "21",
   "metadata": {},
   "outputs": [],
   "source": [
    "modes[0].plot_component(\"E\", component=\"x\", part=\"real\", colorbar=True)"
   ]
  },
  {
   "cell_type": "code",
   "execution_count": null,
   "id": "22",
   "metadata": {},
   "outputs": [],
   "source": [
    "modes[1].plot_component(\"E\", component=\"x\", part=\"real\", colorbar=True)"
   ]
  },
  {
   "cell_type": "code",
   "execution_count": null,
   "id": "23",
   "metadata": {},
   "outputs": [],
   "source": [
    "modes[1].show(\"E\", part=\"real\")"
   ]
  },
  {
   "cell_type": "code",
   "execution_count": null,
   "id": "24",
   "metadata": {},
   "outputs": [],
   "source": []
  }
 ],
 "metadata": {
  "jupytext": {
   "cell_metadata_filter": "-all",
   "custom_cell_magics": "kql",
   "encoding": "# -*- coding: utf-8 -*-",
   "notebook_metadata_filter": "-all"
  },
  "kernelspec": {
   "display_name": "venv",
   "language": "python",
   "name": "python3"
  },
  "language_info": {
   "codemirror_mode": {
    "name": "ipython",
    "version": 3
   },
   "file_extension": ".py",
   "mimetype": "text/x-python",
   "name": "python",
   "nbconvert_exporter": "python",
   "pygments_lexer": "ipython3",
   "version": "3.12.3"
  }
 },
 "nbformat": 4,
 "nbformat_minor": 5
}
