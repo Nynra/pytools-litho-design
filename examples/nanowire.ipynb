{
 "cells": [
  {
   "cell_type": "code",
   "execution_count": null,
   "metadata": {},
   "outputs": [
    {
     "name": "stdout",
     "output_type": "stream",
     "text": [
      "\u001b[32m2025-03-27 15:16:27.280\u001b[0m | \u001b[1mINFO    \u001b[0m | \u001b[36mkfactory.kcell\u001b[0m:\u001b[36mshow\u001b[0m:\u001b[36m3385\u001b[0m - \u001b[1mklive v0.3.3: Opened file '/home/nynra/repos/pytools-lithography/pytools-litho-design/build/gds/345214678.oas'\u001b[0m\n",
      "\u001b[32m2025-03-27 15:16:27.511\u001b[0m | \u001b[1mINFO    \u001b[0m | \u001b[36mkfactory.kcell\u001b[0m:\u001b[36mshow\u001b[0m:\u001b[36m3385\u001b[0m - \u001b[1mklive v0.3.3: Opened file '/home/nynra/repos/pytools-lithography/pytools-litho-design/build/gds/1232607257.oas'\u001b[0m\n",
      "\u001b[32m2025-03-27 15:16:27.651\u001b[0m | \u001b[1mINFO    \u001b[0m | \u001b[36mkfactory.kcell\u001b[0m:\u001b[36mshow\u001b[0m:\u001b[36m3391\u001b[0m - \u001b[1mklive v0.3.3: Reloaded file '/home/nynra/repos/pytools-lithography/pytools-litho-design/build/gds/1232607257.oas'\u001b[0m\n",
      "\u001b[32m2025-03-27 15:16:27.852\u001b[0m | \u001b[1mINFO    \u001b[0m | \u001b[36mkfactory.kcell\u001b[0m:\u001b[36mshow\u001b[0m:\u001b[36m3385\u001b[0m - \u001b[1mklive v0.3.3: Opened file '/home/nynra/repos/pytools-lithography/pytools-litho-design/build/gds/1494166695.oas'\u001b[0m\n"
     ]
    }
   ],
   "source": [
    "from pytools_litho_design.devices.nanowire import spot_wire, variable_length_wire"
   ]
  },
  {
   "cell_type": "code",
   "execution_count": 2,
   "metadata": {},
   "outputs": [
    {
     "name": "stdout",
     "output_type": "stream",
     "text": [
      "Using KLayout. Make sure you have klayout running!\n"
     ]
    }
   ],
   "source": [
    "USE_KLAYOUT = True\n",
    "\n",
    "if not USE_KLAYOUT:\n",
    "    # Plot using matplotlib\n",
    "    print(\"Using matplotlib\")\n",
    "    import matplotlib.pyplot as plt\n",
    "    %matplotlib inline\n",
    "else:\n",
    "    # Klayout will be used\n",
    "    print(\"Using KLayout. Make sure you have klayout running!\")\n",
    "    pass"
   ]
  },
  {
   "cell_type": "markdown",
   "metadata": {},
   "source": [
    "Create a spot nanowire"
   ]
  },
  {
   "cell_type": "code",
   "execution_count": 3,
   "metadata": {},
   "outputs": [],
   "source": [
    "wire_width = 0.1\n",
    "constriction_width = 0.05\n",
    "\n",
    "spot = spot_wire(\n",
    "    source_w=wire_width,\n",
    "    channel_w=constriction_width\n",
    ")"
   ]
  },
  {
   "cell_type": "code",
   "execution_count": 4,
   "metadata": {},
   "outputs": [],
   "source": [
    "if not USE_KLAYOUT:\n",
    "    spot.plot()\n",
    "    plt.show()\n",
    "else:\n",
    "    spot.show()"
   ]
  },
  {
   "cell_type": "markdown",
   "metadata": {},
   "source": [
    "Create a variable length nanowire without probes"
   ]
  },
  {
   "cell_type": "code",
   "execution_count": 5,
   "metadata": {},
   "outputs": [],
   "source": [
    "wire_width = 0.1\n",
    "constriction_width = 0.05\n",
    "constriction_length = 0.2\n",
    "\n",
    "\n",
    "wire = variable_length_wire(\n",
    "    source_w=wire_width,\n",
    "    channel_w=constriction_width,\n",
    "    channel_l=constriction_length\n",
    ")"
   ]
  },
  {
   "cell_type": "code",
   "execution_count": 6,
   "metadata": {},
   "outputs": [],
   "source": [
    "if USE_KLAYOUT:\n",
    "    wire.show()\n",
    "else:\n",
    "    wire.plot()\n",
    "    plt.show()"
   ]
  },
  {
   "cell_type": "markdown",
   "metadata": {},
   "source": [
    "Now with 2 probes"
   ]
  },
  {
   "cell_type": "code",
   "execution_count": 7,
   "metadata": {},
   "outputs": [],
   "source": [
    "wire_width = 0.1\n",
    "constriction_width = 0.05\n",
    "constriction_length = 0.5\n",
    "\n",
    "\n",
    "wire = variable_length_wire(\n",
    "    source_w=wire_width,\n",
    "    channel_w=constriction_width,\n",
    "    channel_l=constriction_length,\n",
    "    two_point_probe=True\n",
    ")"
   ]
  },
  {
   "cell_type": "code",
   "execution_count": 8,
   "metadata": {},
   "outputs": [],
   "source": [
    "if USE_KLAYOUT:\n",
    "    wire.show()\n",
    "else:\n",
    "    wire.plot()\n",
    "    plt.show()"
   ]
  },
  {
   "cell_type": "markdown",
   "metadata": {},
   "source": [
    "Or with 4"
   ]
  },
  {
   "cell_type": "code",
   "execution_count": 9,
   "metadata": {},
   "outputs": [],
   "source": [
    "wire_width = 0.1\n",
    "constriction_width = 0.05\n",
    "constriction_length = 0.5\n",
    "\n",
    "\n",
    "wire = variable_length_wire(\n",
    "    source_w=wire_width,\n",
    "    channel_w=constriction_width,\n",
    "    channel_l=constriction_length,\n",
    "    four_point_probe=True\n",
    ")"
   ]
  },
  {
   "cell_type": "code",
   "execution_count": 10,
   "metadata": {},
   "outputs": [],
   "source": [
    "if USE_KLAYOUT:\n",
    "    wire.show()\n",
    "else:\n",
    "    # It is a known issue that this will show the two probe configuration\n",
    "    # but the wire is actually 4 probe\n",
    "    wire.plot()\n",
    "    plt.show()"
   ]
  }
 ],
 "metadata": {
  "kernelspec": {
   "display_name": "venv",
   "language": "python",
   "name": "python3"
  },
  "language_info": {
   "codemirror_mode": {
    "name": "ipython",
    "version": 3
   },
   "file_extension": ".py",
   "mimetype": "text/x-python",
   "name": "python",
   "nbconvert_exporter": "python",
   "pygments_lexer": "ipython3",
   "version": "3.12.3"
  }
 },
 "nbformat": 4,
 "nbformat_minor": 2
}
