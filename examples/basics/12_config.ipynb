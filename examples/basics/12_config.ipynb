{
 "cells": [
  {
   "cell_type": "markdown",
   "id": "0",
   "metadata": {},
   "source": [
    "# CONFIG \n",
    "\n",
    "You have 2 ways of configuring gdsfactory:\n",
    "\n",
    "1. Use `.env` files with CONFIG variables\n",
    "\n",
    "gdsfactory can store settings in a `.env` file in the current directory or any parent directories.\n",
    "\n",
    "You can create a `.env` file in this directory, restart the notebook and see what CONFIG values you are getting.\n",
    "\n",
    "```python\n",
    "difftest_ignore_cell_name_differences=True\n",
    "difftest_ignore_sliver_differences=False\n",
    "difftest_ignore_label_differences=False\n",
    "layer_error_path=[1000, 0]\n",
    "max_cellname_length=99\n",
    "kfactory_logfilter_regex='^KLayout GUI version'\n",
    "kfactory_cell_overwrite_existing=True\n",
    "```\n",
    "\n",
    "\n",
    "2. You can import CONF in the beginning of your script and then overwrite any settings.\n"
   ]
  },
  {
   "cell_type": "code",
   "execution_count": 1,
   "id": "1",
   "metadata": {},
   "outputs": [
    {
     "data": {
      "text/plain": [
       "Settings(n_threads=8, logfilter=LogFilter(level=<LogLevel.INFO: 'INFO'>, regex=None), display_type='image', meta_format='v3', console=<console width=115 ColorSystem.TRUECOLOR>, allow_width_mismatch=False, allow_layer_mismatch=False, allow_type_mismatch=False, allow_undefined_layers=False, cell_layout_cache=True, cell_overwrite_existing=False, connect_use_angle=True, connect_use_mirror=False, check_instances=<CheckInstances.RAISE: 'error'>, max_cellname_length=32, debug_names=False, write_cell_properties=True, write_context_info=True, write_file_properties=True, show_function=None, difftest_ignore_label_differences=False, difftest_ignore_sliver_differences=False, difftest_ignore_cell_name_differences=True, bend_radius_error_type=<ErrorType.ERROR: 1>, layer_error_path=(1000, 0), pdk='generic', layer_label=(100, 0), port_types=['optical', 'electrical', 'placement', 'vertical_te', 'vertical_tm', 'vertical_dual', 'electrical_rf', 'pad', 'pad_rf', 'bump', 'edge_coupler'], port_types_grating_couplers=['vertical_te', 'vertical_tm', 'vertical_dual'])"
      ]
     },
     "execution_count": 1,
     "metadata": {},
     "output_type": "execute_result"
    }
   ],
   "source": [
    "import gdsfactory as gf\n",
    "\n",
    "gf.CONF"
   ]
  },
  {
   "cell_type": "code",
   "execution_count": 2,
   "id": "2",
   "metadata": {},
   "outputs": [
    {
     "name": "stdout",
     "output_type": "stream",
     "text": [
      "Example_long_name_123456789\n"
     ]
    }
   ],
   "source": [
    "gf.CONF.max_cellname_length = 9  # making the cell name ridiculously short\n",
    "c1 = gf.Component(\"Example_long_name_123456789\")\n",
    "print(c1.name)"
   ]
  },
  {
   "cell_type": "markdown",
   "id": "3",
   "metadata": {},
   "source": [
    "As you can see the cell names are truncated when writing them to GDS."
   ]
  },
  {
   "cell_type": "code",
   "execution_count": 3,
   "id": "4",
   "metadata": {},
   "outputs": [
    {
     "name": "stdout",
     "output_type": "stream",
     "text": [
      "Example_l\n"
     ]
    }
   ],
   "source": [
    "gdspath = c1.write_gds()\n",
    "c2 = gf.import_gds(gdspath)\n",
    "print(c2.name)"
   ]
  }
 ],
 "metadata": {
  "jupytext": {
   "cell_metadata_filter": "-all",
   "custom_cell_magics": "kql"
  },
  "kernelspec": {
   "display_name": "venv",
   "language": "python",
   "name": "python3"
  },
  "language_info": {
   "codemirror_mode": {
    "name": "ipython",
    "version": 3
   },
   "file_extension": ".py",
   "mimetype": "text/x-python",
   "name": "python",
   "nbconvert_exporter": "python",
   "pygments_lexer": "ipython3",
   "version": "3.12.3"
  }
 },
 "nbformat": 4,
 "nbformat_minor": 5
}
