{
 "cells": [
  {
   "cell_type": "markdown",
   "id": "0",
   "metadata": {},
   "source": [
    "# Klayout Design Rule Checking (DRC)\n",
    "\n",
    "To ensure your device can be fabricated correctly, it must meet the Design Rule Checks (DRC) set by the foundry. You can write custom DRC rules directly in GDSFactory and configure shortcuts to run these checks seamlessly within KLayout.\n",
    "\n",
    "Here are some rules explained in [repo generic DRC technology](https://github.com/klayoutmatthias/si4all) and [video](https://peertube.f-si.org/videos/watch/addc77a0-8ac7-4742-b7fb-7d24360ceb97)\n",
    "\n",
    "![rules1](https://i.imgur.com/gNP5Npn.png)"
   ]
  },
  {
   "cell_type": "code",
   "execution_count": null,
   "id": "1",
   "metadata": {},
   "outputs": [
    {
     "name": "stdout",
     "output_type": "stream",
     "text": [
      "\u001b[32m2025-03-26 12:35:38.795\u001b[0m | \u001b[33m\u001b[1mWARNING \u001b[0m | \u001b[36mkfactory.kcell\u001b[0m:\u001b[36mshow\u001b[0m:\u001b[36m3516\u001b[0m - \u001b[33m\u001b[1mCould not connect to klive server\u001b[0m\n"
     ]
    }
   ],
   "source": [
    "import gdsfactory as gf\n",
    "from gdsfactory.component import Component\n",
    "from gdsfactory.generic_tech import LAYER\n",
    "from gdsfactory.typings import Float2, Layer\n",
    "from gplugins.klayout.drc.write_drc import (\n",
    "    check_area,\n",
    "    check_density,\n",
    "    check_enclosing,\n",
    "    check_separation,\n",
    "    check_space,\n",
    "    check_width,\n",
    "    write_drc_deck_macro,\n",
    ")"
   ]
  },
  {
   "cell_type": "code",
   "execution_count": 2,
   "id": "2",
   "metadata": {},
   "outputs": [
    {
     "name": "stdout",
     "output_type": "stream",
     "text": [
      "Help on function write_drc_deck_macro in module gplugins.klayout.drc.write_drc:\n",
      "\n",
      "write_drc_deck_macro(rules: 'list[str]', layers: 'dict[str, Layer] | None' = None, name: 'str' = 'generic', filepath: 'PathType | None' = None, shortcut: 'str' = 'Ctrl+Shift+D', mode: 'str' = 'tiled', threads: 'int' = 4, tile_size: 'int' = 500, tile_borders: 'int | None' = None) -> 'str'\n",
      "    Write KLayout DRC macro.\n",
      "\n",
      "    You can customize the shortcut to run the DRC macro from the Klayout GUI.\n",
      "\n",
      "    Args:\n",
      "        rules: list of rules.\n",
      "        layers: layer definitions can be dict or dataclass.\n",
      "        name: drc rule deck name.\n",
      "        filepath: Optional macro path (defaults to .klayout/drc/name.lydrc).\n",
      "        shortcut: to run macro from KLayout GUI.\n",
      "        mode: tiled, default or deep (hierarchical).\n",
      "        threads: number of threads.\n",
      "        tile_size: in um for tile mode.\n",
      "        tile_borders: sides for each. Defaults None to automatic.\n",
      "\n",
      "    .. code::\n",
      "\n",
      "        import gdsfactory as gf\n",
      "        from gplugins.klayout.drc.write_drc import (\n",
      "            write_drc_deck_macro,\n",
      "            check_enclosing,\n",
      "            check_width,\n",
      "            check_space,\n",
      "            check_separation,\n",
      "            check_area,\n",
      "            check_density,\n",
      "        )\n",
      "        from gdsfactory.generic_tech import LAYER\n",
      "        rules = [\n",
      "            check_width(layer=\"WG\", value=0.2),\n",
      "            check_space(layer=\"WG\", value=0.2),\n",
      "            check_separation(layer1=\"HEATER\", layer2=\"M1\", value=1.0),\n",
      "            check_enclosing(layer1=\"VIAC\", layer2=\"M1\", value=0.2),\n",
      "            check_area(layer=\"WG\", min_area_um2=0.05),\n",
      "            check_density(\n",
      "                layer=\"WG\", layer_floorplan=\"FLOORPLAN\", min_density=0.5, max_density=0.6\n",
      "            ),\n",
      "            check_not_inside(layer=\"VIAC\", not_inside=\"NPP\"),\n",
      "        ]\n",
      "\n",
      "        drc_check_deck = write_drc_deck_macro(rules=rules, layers=LAYER, mode=\"tiled\")\n",
      "        print(drc_check_deck)\n",
      "\n"
     ]
    }
   ],
   "source": [
    "help(write_drc_deck_macro)"
   ]
  },
  {
   "cell_type": "code",
   "execution_count": 3,
   "id": "3",
   "metadata": {},
   "outputs": [
    {
     "name": "stdout",
     "output_type": "stream",
     "text": [
      "Wrote DRC deck to '/home/nynra/.klayout/drc/generic.lydrc' with shortcut 'Ctrl+Shift+D'\n"
     ]
    }
   ],
   "source": [
    "rules = [\n",
    "    check_width(layer=\"WG\", value=0.2),\n",
    "    check_space(layer=\"WG\", value=0.2),\n",
    "    check_width(layer=\"M1\", value=1),\n",
    "    check_width(layer=\"M2\", value=2),\n",
    "    check_space(layer=\"M2\", value=2),\n",
    "    check_separation(layer1=\"HEATER\", layer2=\"M1\", value=1.0),\n",
    "    check_enclosing(layer1=\"M1\", layer2=\"VIAC\", value=0.2),\n",
    "    check_area(layer=\"WG\", min_area_um2=0.05),\n",
    "    check_density(\n",
    "        layer=\"WG\", layer_floorplan=\"FLOORPLAN\", min_density=0.5, max_density=0.6\n",
    "    ),\n",
    "]\n",
    "\n",
    "drc_check_deck = write_drc_deck_macro(\n",
    "    rules=rules,\n",
    "    layers=LAYER,\n",
    "    shortcut=\"Ctrl+Shift+D\",\n",
    ")"
   ]
  },
  {
   "cell_type": "markdown",
   "id": "4",
   "metadata": {},
   "source": [
    "Lets create some DRC errors and check them on klayout."
   ]
  },
  {
   "cell_type": "code",
   "execution_count": 4,
   "id": "5",
   "metadata": {},
   "outputs": [
    {
     "data": {
      "image/png": "[encoded data removed]",
      "text/plain": [
       "<Figure size 800x600 with 1 Axes>"
      ]
     },
     "metadata": {},
     "output_type": "display_data"
    }
   ],
   "source": [
    "layer = LAYER.WG\n",
    "\n",
    "\n",
    "@gf.cell\n",
    "def width_min(size: Float2 = (0.1, 0.1)) -> Component:\n",
    "    return gf.components.rectangle(size=size, layer=layer)\n",
    "\n",
    "\n",
    "@gf.cell\n",
    "def area_min() -> Component:\n",
    "    size = (0.2, 0.2)\n",
    "    return gf.components.rectangle(size=size, layer=layer)\n",
    "\n",
    "\n",
    "@gf.cell\n",
    "def gap_min(gap: float = 0.1) -> Component:\n",
    "    c = gf.Component()\n",
    "    r1 = c << gf.components.rectangle(size=(1, 1), layer=layer)\n",
    "    r2 = c << gf.components.rectangle(size=(1, 1), layer=layer)\n",
    "    r1.dxmax = 0\n",
    "    r2.dxmin = gap\n",
    "    return c\n",
    "\n",
    "\n",
    "@gf.cell\n",
    "def separation(\n",
    "    gap: float = 0.1, layer1: Layer = LAYER.HEATER, layer2: Layer = LAYER.M1\n",
    ") -> Component:\n",
    "    c = gf.Component()\n",
    "    r1 = c << gf.components.rectangle(size=(1, 1), layer=layer1)\n",
    "    r2 = c << gf.components.rectangle(size=(1, 1), layer=layer2)\n",
    "    r1.dxmax = 0\n",
    "    r2.dxmin = gap\n",
    "    return c\n",
    "\n",
    "\n",
    "@gf.cell\n",
    "def enclosing(\n",
    "    enclosing: float = 0.1, layer1: Layer = LAYER.VIAC, layer2: Layer = LAYER.M1\n",
    ") -> Component:\n",
    "    \"\"\"Layer1 must be enclosed by layer2 by value.\n",
    "\n",
    "    checks if layer1 encloses (is bigger than) layer2 by value\n",
    "    \"\"\"\n",
    "    w1 = 1\n",
    "    w2 = w1 + enclosing\n",
    "    c = gf.Component()\n",
    "    c << gf.components.rectangle(size=(w1, w1), layer=layer1, centered=True)\n",
    "    r2 = c << gf.components.rectangle(size=(w2, w2), layer=layer2, centered=True)\n",
    "    r2.dmovex(0.5)\n",
    "    return c\n",
    "\n",
    "\n",
    "@gf.cell\n",
    "def snapping_error(gap: float = 1e-3) -> Component:\n",
    "    c = gf.Component()\n",
    "    r1 = c << gf.components.rectangle(size=(1, 1), layer=layer)\n",
    "    r2 = c << gf.components.rectangle(size=(1, 1), layer=layer)\n",
    "    r1.dxmax = 0\n",
    "    r2.dxmin = gap\n",
    "    return c\n",
    "\n",
    "\n",
    "@gf.cell\n",
    "def errors() -> Component:\n",
    "    components = [width_min(), gap_min(), separation(), enclosing()]\n",
    "    c = gf.pack(components, spacing=1.5)\n",
    "    c = gf.add_padding_container(c[0], layers=(LAYER.FLOORPLAN,), default=5)\n",
    "    return c\n",
    "\n",
    "\n",
    "c = errors()\n",
    "c.show()  # show in klayout\n",
    "c.plot()"
   ]
  },
  {
   "cell_type": "code",
   "execution_count": null,
   "id": "6",
   "metadata": {},
   "outputs": [],
   "source": []
  }
 ],
 "metadata": {
  "jupytext": {
   "cell_metadata_filter": "-all",
   "custom_cell_magics": "kql"
  },
  "kernelspec": {
   "display_name": "venv",
   "language": "python",
   "name": "python3"
  },
  "language_info": {
   "codemirror_mode": {
    "name": "ipython",
    "version": 3
   },
   "file_extension": ".py",
   "mimetype": "text/x-python",
   "name": "python",
   "nbconvert_exporter": "python",
   "pygments_lexer": "ipython3",
   "version": "3.12.3"
  }
 },
 "nbformat": 4,
 "nbformat_minor": 5
}
